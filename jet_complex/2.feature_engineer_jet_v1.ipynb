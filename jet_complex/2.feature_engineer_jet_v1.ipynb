{
 "cells": [
  {
   "cell_type": "code",
   "execution_count": 1,
   "metadata": {},
   "outputs": [],
   "source": [
    "import warnings\n",
    "warnings.simplefilter('ignore')\n",
    "\n",
    "import gc\n",
    "\n",
    "%matplotlib inline\n",
    "import matplotlib.pyplot as plt\n",
    "import seaborn as sns\n",
    "\n",
    "import numpy as np\n",
    "import pandas as pd\n",
    "pd.set_option('max_columns', 500)\n",
    "pd.set_option('max_rows', 200)\n",
    "pd.set_option('float_format', lambda x: '%.6f' % x)\n",
    "\n",
    "from tqdm import tqdm\n",
    "tqdm.pandas()"
   ]
  },
  {
   "cell_type": "code",
   "execution_count": 2,
   "metadata": {},
   "outputs": [],
   "source": [
    "train = pd.read_csv('./jet_complex_data/complex_train_R04_jet.csv')\n",
    "test = pd.read_csv('./jet_complex_data/complex_test_R04_jet.csv')\n",
    "\n",
    "df = pd.concat([train, test], axis=0)"
   ]
  },
  {
   "cell_type": "code",
   "execution_count": 3,
   "metadata": {},
   "outputs": [
    {
     "name": "stderr",
     "output_type": "stream",
     "text": [
      "100%|██████████| 1672504/1672504 [01:44<00:00, 16009.63it/s]\n"
     ]
    }
   ],
   "source": [
    "def l2_dict(x, y, z): \n",
    "    return np.sqrt(np.square(x)+np.square(y)+np.square(z))\n",
    "\n",
    "df['jet_distance'] = df.progress_apply(lambda row: l2_dict(row.jet_px, row.jet_py, row.jet_pz), axis=1)"
   ]
  },
  {
   "cell_type": "code",
   "execution_count": 4,
   "metadata": {},
   "outputs": [
    {
     "name": "stderr",
     "output_type": "stream",
     "text": [
      "100%|██████████| 1672504/1672504 [01:23<00:00, 20143.21it/s]\n",
      "100%|██████████| 1672504/1672504 [01:32<00:00, 17999.05it/s]\n",
      "100%|██████████| 1672504/1672504 [01:22<00:00, 20185.05it/s]\n"
     ]
    }
   ],
   "source": [
    "df['xy_dis'] = df.progress_apply(lambda row: l2_dict(row.jet_px, row.jet_py, 0), axis=1)\n",
    "df['yz_dis'] = df.progress_apply(lambda row: l2_dict(0, row.jet_py, row.jet_pz), axis=1)\n",
    "df['zx_dis'] = df.progress_apply(lambda row: l2_dict(row.jet_px, 0, row.jet_pz), axis=1)"
   ]
  },
  {
   "cell_type": "code",
   "execution_count": 6,
   "metadata": {},
   "outputs": [],
   "source": [
    "df['x_div_dist'] = df['jet_px'] / df['jet_distance']\n",
    "df['y_div_dist'] = df['jet_py'] / df['jet_distance']\n",
    "df['z_div_dist'] = df['jet_pz'] / df['jet_distance']\n",
    "df['xy_div_dist'] = df['xy_dis'] / df['jet_distance']\n",
    "df['yz_div_dist'] = df['yz_dis'] / df['jet_distance']\n",
    "df['zx_div_dist'] = df['zx_dis'] / df['jet_distance']"
   ]
  },
  {
   "cell_type": "code",
   "execution_count": 7,
   "metadata": {},
   "outputs": [],
   "source": [
    "df['energy_x'] = df['jet_energy'] * df['x_div_dist']\n",
    "df['energy_y'] = df['jet_energy'] * df['y_div_dist']\n",
    "df['energy_z'] = df['jet_energy'] * df['z_div_dist']\n",
    "df['energy_xy'] = df['jet_energy'] * df['xy_div_dist']\n",
    "df['energy_yz'] = df['jet_energy'] * df['yz_div_dist']\n",
    "df['energy_zx'] = df['jet_energy'] * df['zx_div_dist']"
   ]
  },
  {
   "cell_type": "code",
   "execution_count": 8,
   "metadata": {},
   "outputs": [
    {
     "name": "stderr",
     "output_type": "stream",
     "text": [
      "100%|██████████| 1672504/1672504 [00:01<00:00, 972572.61it/s] \n"
     ]
    }
   ],
   "source": [
    "def fill_zero(x):\n",
    "    return 0 if x < 0 else x\n",
    "\n",
    "df.jet_mass = df.jet_mass.progress_apply(lambda x: fill_zero(x))"
   ]
  },
  {
   "cell_type": "code",
   "execution_count": 9,
   "metadata": {},
   "outputs": [],
   "source": [
    "df['mass_x'] = df['jet_mass'] * df['x_div_dist']\n",
    "df['mass_y'] = df['jet_mass'] * df['y_div_dist']\n",
    "df['mass_z'] = df['jet_mass'] * df['z_div_dist']\n",
    "df['mass_xy'] = df['jet_mass'] * df['xy_div_dist']\n",
    "df['mass_yz'] = df['jet_mass'] * df['yz_div_dist']\n",
    "df['mass_zx'] = df['jet_mass'] * df['zx_div_dist']"
   ]
  },
  {
   "cell_type": "code",
   "execution_count": 10,
   "metadata": {},
   "outputs": [
    {
     "name": "stderr",
     "output_type": "stream",
     "text": [
      "100%|██████████| 1672504/1672504 [01:15<00:00, 22211.61it/s]\n",
      "100%|██████████| 1672504/1672504 [01:14<00:00, 22358.73it/s]\n",
      "100%|██████████| 1672504/1672504 [01:15<00:00, 22288.38it/s]\n",
      "100%|██████████| 1672504/1672504 [01:15<00:00, 22209.42it/s]\n",
      "100%|██████████| 1672504/1672504 [01:15<00:00, 22297.72it/s]\n",
      "100%|██████████| 1672504/1672504 [01:15<00:00, 22259.43it/s]\n"
     ]
    }
   ],
   "source": [
    "def angle(x, y):\n",
    "    return np.degrees(np.math.atan(x / y)) if y != 0 else 0\n",
    "\n",
    "df['angle_xy'] = df.progress_apply(lambda row: angle(row.jet_px, row.jet_py), axis=1)\n",
    "df['angle_yx'] = df.progress_apply(lambda row: angle(row.jet_py, row.jet_px), axis=1)\n",
    "df['angle_yz'] = df.progress_apply(lambda row: angle(row.jet_py, row.jet_pz), axis=1)\n",
    "df['angle_zy'] = df.progress_apply(lambda row: angle(row.jet_pz, row.jet_py), axis=1)\n",
    "df['angle_zx'] = df.progress_apply(lambda row: angle(row.jet_pz, row.jet_px), axis=1)\n",
    "df['angle_xz'] = df.progress_apply(lambda row: angle(row.jet_px, row.jet_pz), axis=1)"
   ]
  },
  {
   "cell_type": "code",
   "execution_count": 11,
   "metadata": {},
   "outputs": [],
   "source": [
    "df['mean_particles_mass'] = df['jet_mass'] / df['number_of_particles_in_this_jet']\n",
    "df['mean_particles_energy'] = df['jet_energy'] / df['number_of_particles_in_this_jet']"
   ]
  },
  {
   "cell_type": "code",
   "execution_count": 12,
   "metadata": {},
   "outputs": [
    {
     "name": "stderr",
     "output_type": "stream",
     "text": [
      "100%|██████████| 1672504/1672504 [01:15<00:00, 22181.95it/s]\n"
     ]
    }
   ],
   "source": [
    "def calculate_speed(e, m):\n",
    "    return np.sqrt(2*e/m) if m > 0 else 0\n",
    "\n",
    "df['jet_speed'] = df.progress_apply(lambda row: calculate_speed(row.jet_energy, row.jet_mass), axis=1)"
   ]
  },
  {
   "cell_type": "code",
   "execution_count": 13,
   "metadata": {},
   "outputs": [],
   "source": [
    "df['speed_x'] = df['jet_speed'] * df['x_div_dist']\n",
    "df['speed_y'] = df['jet_speed'] * df['y_div_dist']\n",
    "df['speed_z'] = df['jet_speed'] * df['z_div_dist']\n",
    "df['speed_xy'] = df['jet_speed'] * df['xy_div_dist']\n",
    "df['speed_yz'] = df['jet_speed'] * df['yz_div_dist']\n",
    "df['speed_zx'] = df['jet_speed'] * df['zx_div_dist']"
   ]
  },
  {
   "cell_type": "code",
   "execution_count": 14,
   "metadata": {},
   "outputs": [
    {
     "name": "stderr",
     "output_type": "stream",
     "text": [
      "100%|██████████| 1672504/1672504 [01:16<00:00, 22005.40it/s]\n",
      "100%|██████████| 1672504/1672504 [01:12<00:00, 23149.62it/s]\n",
      "100%|██████████| 1672504/1672504 [01:12<00:00, 22959.55it/s]\n",
      "100%|██████████| 1672504/1672504 [01:12<00:00, 22945.76it/s]\n",
      "100%|██████████| 1672504/1672504 [01:16<00:00, 21947.89it/s]\n",
      "100%|██████████| 1672504/1672504 [01:15<00:00, 22036.73it/s]\n",
      "100%|██████████| 1672504/1672504 [01:15<00:00, 22061.94it/s]\n"
     ]
    }
   ],
   "source": [
    "def calculate_travel_time(d, v):\n",
    "    return np.abs(d) / v if v > 0 else 0\n",
    "\n",
    "df['time_dis'] = df.progress_apply(lambda row: calculate_travel_time(row.jet_distance, row.jet_speed), axis=1)\n",
    "df['time_x'] = df.progress_apply(lambda row: calculate_travel_time(row.jet_px, row.speed_x), axis=1)\n",
    "df['time_y'] = df.progress_apply(lambda row: calculate_travel_time(row.jet_py, row.speed_y), axis=1)\n",
    "df['time_z'] = df.progress_apply(lambda row: calculate_travel_time(row.jet_pz, row.speed_z), axis=1)\n",
    "df['time_xy'] = df.progress_apply(lambda row: calculate_travel_time(row.xy_dis, row.speed_xy), axis=1)\n",
    "df['time_yz'] = df.progress_apply(lambda row: calculate_travel_time(row.yz_dis, row.speed_yz), axis=1)\n",
    "df['time_zx'] = df.progress_apply(lambda row: calculate_travel_time(row.zx_dis, row.speed_zx), axis=1)"
   ]
  },
  {
   "cell_type": "code",
   "execution_count": 15,
   "metadata": {},
   "outputs": [],
   "source": [
    "df['jet_mv'] = df['jet_mass'] * df['jet_speed']\n",
    "df['mv_x'] = df['jet_mv'] * df['x_div_dist']\n",
    "df['mv_y'] = df['jet_mv'] * df['y_div_dist']\n",
    "df['mv_z'] = df['jet_mv'] * df['z_div_dist']\n",
    "df['mv_xy'] = df['jet_mv'] * df['xy_div_dist']\n",
    "df['mv_yz'] = df['jet_mv'] * df['yz_div_dist']\n",
    "df['mv_zx'] = df['jet_mv'] * df['zx_div_dist']\n",
    "\n",
    "df['particle_mv'] = df['jet_mv'] / df['number_of_particles_in_this_jet']\n",
    "df['particle_mv_x'] = df['particle_mv'] * df['x_div_dist']\n",
    "df['particle_mv_y'] = df['particle_mv'] * df['y_div_dist']\n",
    "df['particle_mv_z'] = df['particle_mv'] * df['z_div_dist']\n",
    "df['particle_mv_xy'] = df['particle_mv'] * df['xy_div_dist']\n",
    "df['particle_mv_yz'] = df['particle_mv'] * df['yz_div_dist']\n",
    "df['particle_mv_zx'] = df['particle_mv'] * df['zx_div_dist']"
   ]
  },
  {
   "cell_type": "code",
   "execution_count": 18,
   "metadata": {},
   "outputs": [],
   "source": [
    "def brute_force(df):\n",
    "    \n",
    "    df['event_id_count'] = df.groupby('event_id')['jet_id'].transform('count')\n",
    "    \n",
    "    df['event_id_number_particles_max'] = df.groupby('event_id')['number_of_particles_in_this_jet'].transform('max')\n",
    "    df['event_id_number_particles_mean'] = df.groupby('event_id')['number_of_particles_in_this_jet'].transform('mean')\n",
    "    df['event_id_number_particles_min'] = df.groupby('event_id')['number_of_particles_in_this_jet'].transform('min')\n",
    "    df['event_id_number_particles_std'] = df.groupby('event_id')['number_of_particles_in_this_jet'].transform('std')\n",
    "    \n",
    "    df['event_id_mass_max'] = df.groupby('event_id')['jet_mass'].transform('max')\n",
    "    df['event_id_mass_mean'] = df.groupby('event_id')['jet_mass'].transform('mean')\n",
    "    df['event_id_mass_min'] = df.groupby('event_id')['jet_mass'].transform('min')\n",
    "    df['event_id_mass_std'] = df.groupby('event_id')['jet_mass'].transform('std')\n",
    "    \n",
    "    df['event_id_energy_max'] = df.groupby('event_id')['jet_energy'].transform('max')\n",
    "    df['event_id_energy_mean'] = df.groupby('event_id')['jet_energy'].transform('mean')\n",
    "    df['event_id_energy_min'] = df.groupby('event_id')['jet_energy'].transform('min')\n",
    "    df['event_id_energy_std'] = df.groupby('event_id')['jet_energy'].transform('std')\n",
    "    \n",
    "    df['event_id_mass_x_max'] = df.groupby('event_id')['mass_x'].transform('max')\n",
    "    df['event_id_mass_x_mean'] = df.groupby('event_id')['mass_x'].transform('mean')\n",
    "    df['event_id_mass_x_min'] = df.groupby('event_id')['mass_x'].transform('min')\n",
    "    df['event_id_mass_x_std'] = df.groupby('event_id')['mass_x'].transform('std')\n",
    "    \n",
    "    df['event_id_mass_y_max'] = df.groupby('event_id')['mass_y'].transform('max')\n",
    "    df['event_id_mass_y_mean'] = df.groupby('event_id')['mass_y'].transform('mean')\n",
    "    df['event_id_mass_y_min'] = df.groupby('event_id')['mass_y'].transform('min')\n",
    "    df['event_id_mass_y_std'] = df.groupby('event_id')['mass_y'].transform('std')\n",
    "    \n",
    "    df['event_id_mass_z_max'] = df.groupby('event_id')['mass_z'].transform('max')\n",
    "    df['event_id_mass_z_mean'] = df.groupby('event_id')['mass_z'].transform('mean')\n",
    "    df['event_id_mass_z_min'] = df.groupby('event_id')['mass_z'].transform('min')\n",
    "    df['event_id_mass_z_std'] = df.groupby('event_id')['mass_z'].transform('std')\n",
    "    \n",
    "    df['event_id_mass_xy_max'] = df.groupby('event_id')['mass_xy'].transform('max')\n",
    "    df['event_id_mass_xy_mean'] = df.groupby('event_id')['mass_xy'].transform('mean')\n",
    "    df['event_id_mass_xy_min'] = df.groupby('event_id')['mass_xy'].transform('min')\n",
    "    df['event_id_mass_xy_std'] = df.groupby('event_id')['mass_xy'].transform('std')\n",
    "    \n",
    "    df['event_id_mass_yz_max'] = df.groupby('event_id')['mass_yz'].transform('max')\n",
    "    df['event_id_mass_yz_mean'] = df.groupby('event_id')['mass_yz'].transform('mean')\n",
    "    df['event_id_mass_yz_min'] = df.groupby('event_id')['mass_yz'].transform('min')\n",
    "    df['event_id_mass_yz_std'] = df.groupby('event_id')['mass_yz'].transform('std')\n",
    "    \n",
    "    df['event_id_mass_zx_max'] = df.groupby('event_id')['mass_zx'].transform('max')\n",
    "    df['event_id_mass_zx_mean'] = df.groupby('event_id')['mass_zx'].transform('mean')\n",
    "    df['event_id_mass_zx_min'] = df.groupby('event_id')['mass_zx'].transform('min')\n",
    "    df['event_id_mass_zx_std'] = df.groupby('event_id')['mass_zx'].transform('std')\n",
    "    \n",
    "    df['event_id_energy_x_max'] = df.groupby('event_id')['energy_x'].transform('max')\n",
    "    df['event_id_energy_x_mean'] = df.groupby('event_id')['energy_x'].transform('mean')\n",
    "    df['event_id_energy_x_min'] = df.groupby('event_id')['energy_x'].transform('min')\n",
    "    df['event_id_energy_x_std'] = df.groupby('event_id')['energy_x'].transform('std')\n",
    "    \n",
    "    df['event_id_energy_y_max'] = df.groupby('event_id')['energy_y'].transform('max')\n",
    "    df['event_id_energy_y_mean'] = df.groupby('event_id')['energy_y'].transform('mean')\n",
    "    df['event_id_energy_y_min'] = df.groupby('event_id')['energy_y'].transform('min')\n",
    "    df['event_id_energy_y_std'] = df.groupby('event_id')['energy_y'].transform('std')\n",
    "    \n",
    "    df['event_id_energy_z_max'] = df.groupby('event_id')['energy_z'].transform('max')\n",
    "    df['event_id_energy_z_mean'] = df.groupby('event_id')['energy_z'].transform('mean')\n",
    "    df['event_id_energy_z_min'] = df.groupby('event_id')['energy_z'].transform('min')\n",
    "    df['event_id_energy_z_std'] = df.groupby('event_id')['energy_z'].transform('std')\n",
    "    \n",
    "    df['event_id_energy_xy_max'] = df.groupby('event_id')['energy_xy'].transform('max')\n",
    "    df['event_id_energy_xy_mean'] = df.groupby('event_id')['energy_xy'].transform('mean')\n",
    "    df['event_id_energy_xy_min'] = df.groupby('event_id')['energy_xy'].transform('min')\n",
    "    df['event_id_energy_xy_std'] = df.groupby('event_id')['energy_xy'].transform('std')\n",
    "    \n",
    "    df['event_id_energy_yz_max'] = df.groupby('event_id')['energy_yz'].transform('max')\n",
    "    df['event_id_energy_yz_mean'] = df.groupby('event_id')['energy_yz'].transform('mean')\n",
    "    df['event_id_energy_yz_min'] = df.groupby('event_id')['energy_yz'].transform('min')\n",
    "    df['event_id_energy_yz_std'] = df.groupby('event_id')['energy_yz'].transform('std')\n",
    "    \n",
    "    df['event_id_energy_zx_max'] = df.groupby('event_id')['energy_zx'].transform('max')\n",
    "    df['event_id_energy_zx_mean'] = df.groupby('event_id')['energy_zx'].transform('mean')\n",
    "    df['event_id_energy_zx_min'] = df.groupby('event_id')['energy_zx'].transform('min')\n",
    "    df['event_id_energy_zx_std'] = df.groupby('event_id')['energy_zx'].transform('std')\n",
    "    \n",
    "    df['event_id_particles_mass_max'] = df.groupby('event_id')['mean_particles_mass'].transform('max')\n",
    "    df['event_id_particles_mass_mean'] = df.groupby('event_id')['mean_particles_mass'].transform('mean')\n",
    "    df['event_id_particles_mass_min'] = df.groupby('event_id')['mean_particles_mass'].transform('min')\n",
    "    df['event_id_particles_mass_std'] = df.groupby('event_id')['mean_particles_mass'].transform('std')\n",
    "    \n",
    "    df['event_id_particles_energy_max'] = df.groupby('event_id')['mean_particles_energy'].transform('max')\n",
    "    df['event_id_particles_energy_mean'] = df.groupby('event_id')['mean_particles_energy'].transform('mean')\n",
    "    df['event_id_particles_energy_min'] = df.groupby('event_id')['mean_particles_energy'].transform('min')\n",
    "    df['event_id_particles_energy_std'] = df.groupby('event_id')['mean_particles_energy'].transform('std')\n",
    "    \n",
    "    df['event_id_distance_max'] = df.groupby('event_id')['jet_distance'].transform('max')\n",
    "    df['event_id_distance_mean'] = df.groupby('event_id')['jet_distance'].transform('mean')\n",
    "    df['event_id_distance_min'] = df.groupby('event_id')['jet_distance'].transform('min')\n",
    "    df['event_id_distance_std'] = df.groupby('event_id')['jet_distance'].transform('std')\n",
    "    \n",
    "    df['event_id_xy_dis_max'] = df.groupby('event_id')['xy_dis'].transform('max')\n",
    "    df['event_id_xy_dis_mean'] = df.groupby('event_id')['xy_dis'].transform('mean')\n",
    "    df['event_id_xy_dis_min'] = df.groupby('event_id')['xy_dis'].transform('min')\n",
    "    df['event_id_xy_dis_std'] = df.groupby('event_id')['xy_dis'].transform('std')\n",
    "    \n",
    "    df['event_id_yz_dis_max'] = df.groupby('event_id')['yz_dis'].transform('max')\n",
    "    df['event_id_yz_dis_mean'] = df.groupby('event_id')['yz_dis'].transform('mean')\n",
    "    df['event_id_yz_dis_min'] = df.groupby('event_id')['yz_dis'].transform('min')\n",
    "    df['event_id_yz_dis_std'] = df.groupby('event_id')['yz_dis'].transform('std')\n",
    "    \n",
    "    df['event_id_zx_dis_max'] = df.groupby('event_id')['zx_dis'].transform('max')\n",
    "    df['event_id_zx_dis_mean'] = df.groupby('event_id')['zx_dis'].transform('mean')\n",
    "    df['event_id_zx_dis_min'] = df.groupby('event_id')['zx_dis'].transform('min')\n",
    "    df['event_id_zx_dis_std'] = df.groupby('event_id')['zx_dis'].transform('std')\n",
    "    \n",
    "    df['event_id_x_div_dist_max'] = df.groupby('event_id')['x_div_dist'].transform('max')\n",
    "    df['event_id_x_div_dist_mean'] = df.groupby('event_id')['x_div_dist'].transform('mean')\n",
    "    df['event_id_x_div_dist_min'] = df.groupby('event_id')['x_div_dist'].transform('min')\n",
    "    df['event_id_x_div_dist_std'] = df.groupby('event_id')['x_div_dist'].transform('std')\n",
    "    \n",
    "    df['event_id_y_div_dist_max'] = df.groupby('event_id')['y_div_dist'].transform('max')\n",
    "    df['event_id_y_div_dist_mean'] = df.groupby('event_id')['y_div_dist'].transform('mean')\n",
    "    df['event_id_y_div_dist_min'] = df.groupby('event_id')['y_div_dist'].transform('min')\n",
    "    df['event_id_y_div_dist_std'] = df.groupby('event_id')['y_div_dist'].transform('std')\n",
    "    \n",
    "    df['event_id_z_div_dist_max'] = df.groupby('event_id')['z_div_dist'].transform('max')\n",
    "    df['event_id_z_div_dist_mean'] = df.groupby('event_id')['z_div_dist'].transform('mean')\n",
    "    df['event_id_z_div_dist_min'] = df.groupby('event_id')['z_div_dist'].transform('min')\n",
    "    df['event_id_z_div_dist_std'] = df.groupby('event_id')['z_div_dist'].transform('std')\n",
    "    \n",
    "    df['event_id_xy_div_dist_max'] = df.groupby('event_id')['xy_div_dist'].transform('max')\n",
    "    df['event_id_xy_div_dist_mean'] = df.groupby('event_id')['xy_div_dist'].transform('mean')\n",
    "    df['event_id_xy_div_dist_min'] = df.groupby('event_id')['xy_div_dist'].transform('min')\n",
    "    df['event_id_xy_div_dist_std'] = df.groupby('event_id')['xy_div_dist'].transform('std')\n",
    "    \n",
    "    df['event_id_yz_div_dist_max'] = df.groupby('event_id')['yz_div_dist'].transform('max')\n",
    "    df['event_id_yz_div_dist_mean'] = df.groupby('event_id')['yz_div_dist'].transform('mean')\n",
    "    df['event_id_yz_div_dist_min'] = df.groupby('event_id')['yz_div_dist'].transform('min')\n",
    "    df['event_id_yz_div_dist_std'] = df.groupby('event_id')['yz_div_dist'].transform('std')\n",
    "    \n",
    "    df['event_id_zx_div_dist_max'] = df.groupby('event_id')['zx_div_dist'].transform('max')\n",
    "    df['event_id_zx_div_dist_mean'] = df.groupby('event_id')['zx_div_dist'].transform('mean')\n",
    "    df['event_id_zx_div_dist_min'] = df.groupby('event_id')['zx_div_dist'].transform('min')\n",
    "    df['event_id_zx_div_dist_std'] = df.groupby('event_id')['zx_div_dist'].transform('std')\n",
    "    \n",
    "    df['event_id_speed_max'] = df.groupby('event_id')['jet_speed'].transform('max')\n",
    "    df['event_id_speed_mean'] = df.groupby('event_id')['jet_speed'].transform('mean')\n",
    "    df['event_id_speed_min'] = df.groupby('event_id')['jet_speed'].transform('min')\n",
    "    df['event_id_speed_std'] = df.groupby('event_id')['jet_speed'].transform('std')\n",
    "    \n",
    "    df['event_id_speed_x_max'] = df.groupby('event_id')['speed_x'].transform('max')\n",
    "    df['event_id_speed_x_mean'] = df.groupby('event_id')['speed_x'].transform('mean')\n",
    "    df['event_id_speed_x_min'] = df.groupby('event_id')['speed_x'].transform('min')\n",
    "    df['event_id_speed_x_std'] = df.groupby('event_id')['speed_x'].transform('std')\n",
    "    \n",
    "    df['event_id_speed_y_max'] = df.groupby('event_id')['speed_y'].transform('max')\n",
    "    df['event_id_speed_y_mean'] = df.groupby('event_id')['speed_y'].transform('mean')\n",
    "    df['event_id_speed_y_min'] = df.groupby('event_id')['speed_y'].transform('min')\n",
    "    df['event_id_speed_y_std'] = df.groupby('event_id')['speed_y'].transform('std')\n",
    "    \n",
    "    df['event_id_speed_z_max'] = df.groupby('event_id')['speed_z'].transform('max')\n",
    "    df['event_id_speed_z_mean'] = df.groupby('event_id')['speed_z'].transform('mean')\n",
    "    df['event_id_speed_z_min'] = df.groupby('event_id')['speed_z'].transform('min')\n",
    "    df['event_id_speed_z_std'] = df.groupby('event_id')['speed_z'].transform('std')\n",
    "    \n",
    "    df['event_id_speed_xy_max'] = df.groupby('event_id')['speed_xy'].transform('max')\n",
    "    df['event_id_speed_xy_mean'] = df.groupby('event_id')['speed_xy'].transform('mean')\n",
    "    df['event_id_speed_xy_min'] = df.groupby('event_id')['speed_xy'].transform('min')\n",
    "    df['event_id_speed_xy_std'] = df.groupby('event_id')['speed_xy'].transform('std')\n",
    "    \n",
    "    df['event_id_speed_yz_max'] = df.groupby('event_id')['speed_yz'].transform('max')\n",
    "    df['event_id_speed_yz_mean'] = df.groupby('event_id')['speed_yz'].transform('mean')\n",
    "    df['event_id_speed_yz_min'] = df.groupby('event_id')['speed_yz'].transform('min')\n",
    "    df['event_id_speed_yz_std'] = df.groupby('event_id')['speed_yz'].transform('std')\n",
    "    \n",
    "    df['event_id_speed_zx_max'] = df.groupby('event_id')['speed_zx'].transform('max')\n",
    "    df['event_id_speed_zx_mean'] = df.groupby('event_id')['speed_zx'].transform('mean')\n",
    "    df['event_id_speed_zx_min'] = df.groupby('event_id')['speed_zx'].transform('min')\n",
    "    df['event_id_speed_zx_std'] = df.groupby('event_id')['speed_zx'].transform('std')    \n",
    "    \n",
    "    df['event_id_px_max'] = df.groupby('event_id')['jet_px'].transform('max')\n",
    "    df['event_id_px_mean'] = df.groupby('event_id')['jet_px'].transform('mean')\n",
    "    df['event_id_px_min'] = df.groupby('event_id')['jet_px'].transform('min')\n",
    "    df['event_id_px_std'] = df.groupby('event_id')['jet_px'].transform('std')\n",
    "    \n",
    "    df['event_id_py_max'] = df.groupby('event_id')['jet_py'].transform('max')\n",
    "    df['event_id_py_mean'] = df.groupby('event_id')['jet_py'].transform('mean')\n",
    "    df['event_id_py_min'] = df.groupby('event_id')['jet_py'].transform('min')\n",
    "    df['event_id_py_std'] = df.groupby('event_id')['jet_py'].transform('std')\n",
    "    \n",
    "    df['event_id_pz_max'] = df.groupby('event_id')['jet_pz'].transform('max')\n",
    "    df['event_id_pz_mean'] = df.groupby('event_id')['jet_pz'].transform('mean')\n",
    "    df['event_id_pz_min'] = df.groupby('event_id')['jet_pz'].transform('min')\n",
    "    df['event_id_pz_std'] = df.groupby('event_id')['jet_pz'].transform('std')\n",
    "    \n",
    "    df['event_id_angle_xy_max'] = df.groupby('event_id')['angle_xy'].transform('max')\n",
    "    df['event_id_angle_xy_mean'] = df.groupby('event_id')['angle_xy'].transform('mean')\n",
    "    df['event_id_angle_xy_min'] = df.groupby('event_id')['angle_xy'].transform('min')\n",
    "    df['event_id_angle_xy_std'] = df.groupby('event_id')['angle_xy'].transform('std')\n",
    "    \n",
    "    df['event_id_angle_xz_max'] = df.groupby('event_id')['angle_xz'].transform('max')\n",
    "    df['event_id_angle_xz_mean'] = df.groupby('event_id')['angle_xz'].transform('mean')\n",
    "    df['event_id_angle_xz_min'] = df.groupby('event_id')['angle_xz'].transform('min')\n",
    "    df['event_id_angle_xz_std'] = df.groupby('event_id')['angle_xz'].transform('std')\n",
    "    \n",
    "    df['event_id_angle_yx_max'] = df.groupby('event_id')['angle_yx'].transform('max')\n",
    "    df['event_id_angle_yx_mean'] = df.groupby('event_id')['angle_yx'].transform('mean')\n",
    "    df['event_id_angle_yx_min'] = df.groupby('event_id')['angle_yx'].transform('min')\n",
    "    df['event_id_angle_yx_std'] = df.groupby('event_id')['angle_yx'].transform('std')\n",
    "    \n",
    "    df['event_id_angle_yz_max'] = df.groupby('event_id')['angle_yz'].transform('max')\n",
    "    df['event_id_angle_yz_mean'] = df.groupby('event_id')['angle_yz'].transform('mean')\n",
    "    df['event_id_angle_yz_min'] = df.groupby('event_id')['angle_yz'].transform('min')\n",
    "    df['event_id_angle_yz_std'] = df.groupby('event_id')['angle_yz'].transform('std')\n",
    "    \n",
    "    df['event_id_angle_zy_max'] = df.groupby('event_id')['angle_zy'].transform('max')\n",
    "    df['event_id_angle_zy_mean'] = df.groupby('event_id')['angle_zy'].transform('mean')\n",
    "    df['event_id_angle_zy_min'] = df.groupby('event_id')['angle_zy'].transform('min')\n",
    "    df['event_id_angle_zy_std'] = df.groupby('event_id')['angle_zy'].transform('std')\n",
    "    \n",
    "    df['event_id_angle_zx_max'] = df.groupby('event_id')['angle_zx'].transform('max')\n",
    "    df['event_id_angle_zx_mean'] = df.groupby('event_id')['angle_zx'].transform('mean')\n",
    "    df['event_id_angle_zx_min'] = df.groupby('event_id')['angle_zx'].transform('min')\n",
    "    df['event_id_angle_zx_std'] = df.groupby('event_id')['angle_zx'].transform('std')\n",
    "    \n",
    "    df['event_id_time_dis_max'] = df.groupby('event_id')['time_dis'].transform('max')\n",
    "    df['event_id_time_dis_mean'] = df.groupby('event_id')['time_dis'].transform('mean')\n",
    "    df['event_id_time_dis_min'] = df.groupby('event_id')['time_dis'].transform('min')\n",
    "    df['event_id_time_dis_std'] = df.groupby('event_id')['time_dis'].transform('std')\n",
    "    \n",
    "    df['event_id_time_x_max'] = df.groupby('event_id')['time_x'].transform('max')\n",
    "    df['event_id_time_x_mean'] = df.groupby('event_id')['time_x'].transform('mean')\n",
    "    df['event_id_time_x_min'] = df.groupby('event_id')['time_x'].transform('min')\n",
    "    df['event_id_time_x_std'] = df.groupby('event_id')['time_x'].transform('std')\n",
    "    \n",
    "    df['event_id_time_y_max'] = df.groupby('event_id')['time_y'].transform('max')\n",
    "    df['event_id_time_y_mean'] = df.groupby('event_id')['time_y'].transform('mean')\n",
    "    df['event_id_time_y_min'] = df.groupby('event_id')['time_y'].transform('min')\n",
    "    df['event_id_time_y_std'] = df.groupby('event_id')['time_y'].transform('std')\n",
    "    \n",
    "    df['event_id_time_z_max'] = df.groupby('event_id')['time_z'].transform('max')\n",
    "    df['event_id_time_z_mean'] = df.groupby('event_id')['time_z'].transform('mean')\n",
    "    df['event_id_time_z_min'] = df.groupby('event_id')['time_z'].transform('min')\n",
    "    df['event_id_time_z_std'] = df.groupby('event_id')['time_z'].transform('std')\n",
    "    \n",
    "    df['event_id_time_xy_max'] = df.groupby('event_id')['time_xy'].transform('max')\n",
    "    df['event_id_time_xy_mean'] = df.groupby('event_id')['time_xy'].transform('mean')\n",
    "    df['event_id_time_xy_min'] = df.groupby('event_id')['time_xy'].transform('min')\n",
    "    df['event_id_time_xy_std'] = df.groupby('event_id')['time_xy'].transform('std')\n",
    "    \n",
    "    df['event_id_time_yz_max'] = df.groupby('event_id')['time_yz'].transform('max')\n",
    "    df['event_id_time_yz_mean'] = df.groupby('event_id')['time_yz'].transform('mean')\n",
    "    df['event_id_time_yz_min'] = df.groupby('event_id')['time_yz'].transform('min')\n",
    "    df['event_id_time_yz_std'] = df.groupby('event_id')['time_yz'].transform('std')\n",
    "    \n",
    "    df['event_id_time_zx_max'] = df.groupby('event_id')['time_zx'].transform('max')\n",
    "    df['event_id_time_zx_mean'] = df.groupby('event_id')['time_zx'].transform('mean')\n",
    "    df['event_id_time_zx_min'] = df.groupby('event_id')['time_zx'].transform('min')\n",
    "    df['event_id_time_zx_std'] = df.groupby('event_id')['time_zx'].transform('std')\n",
    "    \n",
    "    df['event_id_mv_max'] = df.groupby('event_id')['jet_mv'].transform('max')\n",
    "    df['event_id_mv_mean'] = df.groupby('event_id')['jet_mv'].transform('mean')\n",
    "    df['event_id_mv_min'] = df.groupby('event_id')['jet_mv'].transform('min')\n",
    "    df['event_id_mv_std'] = df.groupby('event_id')['jet_mv'].transform('std')\n",
    "    \n",
    "    df['event_id_mv_x_max'] = df.groupby('event_id')['mv_x'].transform('max')\n",
    "    df['event_id_mv_x_mean'] = df.groupby('event_id')['mv_x'].transform('mean')\n",
    "    df['event_id_mv_x_min'] = df.groupby('event_id')['mv_x'].transform('min')\n",
    "    df['event_id_mv_x_std'] = df.groupby('event_id')['mv_x'].transform('std')\n",
    "    \n",
    "    df['event_id_mv_y_max'] = df.groupby('event_id')['mv_y'].transform('max')\n",
    "    df['event_id_mv_y_mean'] = df.groupby('event_id')['mv_y'].transform('mean')\n",
    "    df['event_id_mv_y_min'] = df.groupby('event_id')['mv_y'].transform('min')\n",
    "    df['event_id_mv_y_std'] = df.groupby('event_id')['mv_y'].transform('std')\n",
    "    \n",
    "    df['event_id_mv_z_max'] = df.groupby('event_id')['mv_z'].transform('max')\n",
    "    df['event_id_mv_z_mean'] = df.groupby('event_id')['mv_z'].transform('mean')\n",
    "    df['event_id_mv_z_min'] = df.groupby('event_id')['mv_z'].transform('min')\n",
    "    df['event_id_mv_z_std'] = df.groupby('event_id')['mv_z'].transform('std')\n",
    "    \n",
    "    df['event_id_mv_xy_max'] = df.groupby('event_id')['mv_xy'].transform('max')\n",
    "    df['event_id_mv_xy_mean'] = df.groupby('event_id')['mv_xy'].transform('mean')\n",
    "    df['event_id_mv_xy_min'] = df.groupby('event_id')['mv_xy'].transform('min')\n",
    "    df['event_id_mv_xy_std'] = df.groupby('event_id')['mv_xy'].transform('std')\n",
    "    \n",
    "    df['event_id_mv_yz_max'] = df.groupby('event_id')['mv_yz'].transform('max')\n",
    "    df['event_id_mv_yz_mean'] = df.groupby('event_id')['mv_yz'].transform('mean')\n",
    "    df['event_id_mv_yz_min'] = df.groupby('event_id')['mv_yz'].transform('min')\n",
    "    df['event_id_mv_yz_std'] = df.groupby('event_id')['mv_yz'].transform('std')\n",
    "    \n",
    "    df['event_id_mv_zx_max'] = df.groupby('event_id')['mv_zx'].transform('max')\n",
    "    df['event_id_mv_zx_mean'] = df.groupby('event_id')['mv_zx'].transform('mean')\n",
    "    df['event_id_mv_zx_min'] = df.groupby('event_id')['mv_zx'].transform('min')\n",
    "    df['event_id_mv_zx_std'] = df.groupby('event_id')['mv_zx'].transform('std')\n",
    "    \n",
    "    df['event_id_particle_mv_max'] = df.groupby('event_id')['particle_mv'].transform('max')\n",
    "    df['event_id_particle_mv_mean'] = df.groupby('event_id')['particle_mv'].transform('mean')\n",
    "    df['event_id_particle_mv_min'] = df.groupby('event_id')['particle_mv'].transform('min')\n",
    "    df['event_id_particle_mv_std'] = df.groupby('event_id')['particle_mv'].transform('std')\n",
    "    \n",
    "    df['event_id_particle_mv_x_max'] = df.groupby('event_id')['particle_mv_x'].transform('max')\n",
    "    df['event_id_particle_mv_x_mean'] = df.groupby('event_id')['particle_mv_x'].transform('mean')\n",
    "    df['event_id_particle_mv_x_min'] = df.groupby('event_id')['particle_mv_x'].transform('min')\n",
    "    df['event_id_particle_mv_x_std'] = df.groupby('event_id')['particle_mv_x'].transform('std')\n",
    "    \n",
    "    df['event_id_particle_mv_y_max'] = df.groupby('event_id')['particle_mv_y'].transform('max')\n",
    "    df['event_id_particle_mv_y_mean'] = df.groupby('event_id')['particle_mv_y'].transform('mean')\n",
    "    df['event_id_particle_mv_y_min'] = df.groupby('event_id')['particle_mv_y'].transform('min')\n",
    "    df['event_id_particle_mv_y_std'] = df.groupby('event_id')['particle_mv_y'].transform('std')\n",
    "    \n",
    "    df['event_id_particle_mv_z_max'] = df.groupby('event_id')['particle_mv_z'].transform('max')\n",
    "    df['event_id_particle_mv_z_mean'] = df.groupby('event_id')['particle_mv_z'].transform('mean')\n",
    "    df['event_id_particle_mv_z_min'] = df.groupby('event_id')['particle_mv_z'].transform('min')\n",
    "    df['event_id_particle_mv_z_std'] = df.groupby('event_id')['particle_mv_z'].transform('std')\n",
    "    \n",
    "    df['event_id_particle_mv_xy_max'] = df.groupby('event_id')['particle_mv_xy'].transform('max')\n",
    "    df['event_id_particle_mv_xy_mean'] = df.groupby('event_id')['particle_mv_xy'].transform('mean')\n",
    "    df['event_id_particle_mv_xy_min'] = df.groupby('event_id')['particle_mv_xy'].transform('min')\n",
    "    df['event_id_particle_mv_xy_std'] = df.groupby('event_id')['particle_mv_xy'].transform('std')\n",
    "    \n",
    "    df['event_id_particle_mv_yz_max'] = df.groupby('event_id')['particle_mv_yz'].transform('max')\n",
    "    df['event_id_particle_mv_yz_mean'] = df.groupby('event_id')['particle_mv_yz'].transform('mean')\n",
    "    df['event_id_particle_mv_yz_min'] = df.groupby('event_id')['particle_mv_yz'].transform('min')\n",
    "    df['event_id_particle_mv_yz_std'] = df.groupby('event_id')['particle_mv_yz'].transform('std')\n",
    "    \n",
    "    df['event_id_particle_mv_zx_max'] = df.groupby('event_id')['particle_mv_zx'].transform('max')\n",
    "    df['event_id_particle_mv_zx_mean'] = df.groupby('event_id')['particle_mv_zx'].transform('mean')\n",
    "    df['event_id_particle_mv_zx_min'] = df.groupby('event_id')['particle_mv_zx'].transform('min')\n",
    "    df['event_id_particle_mv_zx_std'] = df.groupby('event_id')['particle_mv_zx'].transform('std')\n",
    "     \n",
    "    return df"
   ]
  },
  {
   "cell_type": "code",
   "execution_count": 19,
   "metadata": {},
   "outputs": [],
   "source": [
    "df = brute_force(df)"
   ]
  },
  {
   "cell_type": "code",
   "execution_count": 20,
   "metadata": {},
   "outputs": [
    {
     "name": "stderr",
     "output_type": "stream",
     "text": [
      "100%|██████████| 1672504/1672504 [02:13<00:00, 12561.75it/s]\n"
     ]
    }
   ],
   "source": [
    "df['event_id_energy_sum'] = df.groupby('event_id')['jet_energy'].transform('sum')\n",
    "df['event_id_mass_sum'] = df.groupby('event_id')['jet_mass'].transform('sum')\n",
    "df['event_id_speed'] = df.progress_apply(lambda row: calculate_speed(row.event_id_energy_sum, row.event_id_mass_sum), axis=1)"
   ]
  },
  {
   "cell_type": "code",
   "execution_count": 23,
   "metadata": {},
   "outputs": [
    {
     "data": {
      "text/plain": [
       "(1672504, 327)"
      ]
     },
     "execution_count": 23,
     "metadata": {},
     "output_type": "execute_result"
    }
   ],
   "source": [
    "df.shape"
   ]
  },
  {
   "cell_type": "code",
   "execution_count": 24,
   "metadata": {},
   "outputs": [],
   "source": [
    "train_jet = df[:len(train)]\n",
    "test_jet = df[len(train):]"
   ]
  },
  {
   "cell_type": "code",
   "execution_count": 25,
   "metadata": {},
   "outputs": [
    {
     "data": {
      "text/plain": [
       "791"
      ]
     },
     "execution_count": 25,
     "metadata": {},
     "output_type": "execute_result"
    }
   ],
   "source": [
    "del df\n",
    "\n",
    "gc.collect()"
   ]
  },
  {
   "cell_type": "code",
   "execution_count": 26,
   "metadata": {},
   "outputs": [],
   "source": [
    "train_jet.to_pickle('train_jet.pickle')\n",
    "test_jet.to_pickle('test_jet.pickle')"
   ]
  },
  {
   "cell_type": "code",
   "execution_count": null,
   "metadata": {},
   "outputs": [],
   "source": []
  }
 ],
 "metadata": {
  "kernelspec": {
   "display_name": "Python 3",
   "language": "python",
   "name": "python3"
  },
  "language_info": {
   "codemirror_mode": {
    "name": "ipython",
    "version": 3
   },
   "file_extension": ".py",
   "mimetype": "text/x-python",
   "name": "python",
   "nbconvert_exporter": "python",
   "pygments_lexer": "ipython3",
   "version": "3.7.3"
  }
 },
 "nbformat": 4,
 "nbformat_minor": 2
}
